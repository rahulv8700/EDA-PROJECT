{
  "nbformat": 4,
  "nbformat_minor": 0,
  "metadata": {
    "colab": {
      "private_outputs": true,
      "provenance": [],
      "collapsed_sections": [
        "gIfDvo9L0UH2"
      ],
      "include_colab_link": true
    },
    "kernelspec": {
      "name": "python3",
      "display_name": "Python 3"
    },
    "language_info": {
      "name": "python"
    }
  },
  "cells": [
    {
      "cell_type": "markdown",
      "metadata": {
        "id": "view-in-github",
        "colab_type": "text"
      },
      "source": [
        "<a href=\"https://colab.research.google.com/github/rahulv8700/EDA-PROJECT/blob/main/Capstone_(2)_Project_Amazon_Prime_TV_Shows_and_Movies.ipynb\" target=\"_parent\"><img src=\"https://colab.research.google.com/assets/colab-badge.svg\" alt=\"Open In Colab\"/></a>"
      ]
    },
    {
      "cell_type": "code",
      "source": [],
      "metadata": {
        "id": "I1apcow5dxii"
      },
      "execution_count": null,
      "outputs": []
    },
    {
      "cell_type": "markdown",
      "source": [
        "# **Project Name**    - Exploratory Data Analysis on Amazon Prime TV Shows & Movies\n",
        "\n"
      ],
      "metadata": {
        "id": "vncDsAP0Gaoa"
      }
    },
    {
      "cell_type": "markdown",
      "source": [
        "##### **Project Type**    - EDA\n",
        "##### **Contribution**    - Individual\n"
      ],
      "metadata": {
        "id": "beRrZCGUAJYm"
      }
    },
    {
      "cell_type": "markdown",
      "source": [
        "# **Project Summary -**"
      ],
      "metadata": {
        "id": "FJNUwmbgGyua"
      }
    },
    {
      "cell_type": "markdown",
      "source": [
        "The global streaming industry has grown rapidly in recent years, with platforms like Amazon Prime Video competing to capture diverse audiences through vast and varied content libraries. With an ever-expanding catalog of TV shows and movies, it becomes essential for companies to leverage data-driven insights to understand audience preferences, optimize content strategies, and maintain a competitive edge. This project aims to analyze Amazon Prime Video’s catalog using exploratory data analysis (EDA) to uncover patterns in genres, ratings, regional content distribution, and popularity trends.\n",
        "\n",
        "The dataset used in this project consists of two CSV files, combining over 9,000 unique titles and 124,000 credits. The titles.csv file contains attributes such as title name, type (movie or TV show), release year, age certification, runtime, number of seasons, genres, IMDb and TMDb scores, and production countries. The credits.csv file provides information about actors and directors, including their names, roles, and associations with specific titles. Together, these files offer both content-level and person-level insights, enabling a holistic exploration of Amazon Prime Video’s offerings.\n",
        "\n",
        "The project begins with data loading and cleaning. Initial steps involved handling missing values, standardizing formats (such as runtime, release year, and certification categories), and merging datasets where necessary. Special attention was given to categorical columns like genres and production countries, which often contain multiple values per record. Cleaning this data ensured that meaningful aggregations and visualizations could be performed effectively.\n",
        "\n",
        "Once the dataset was prepared, the exploratory data analysis (EDA) phase was conducted. The first observation was the distribution of content type: Amazon Prime Video has a significantly larger share of movies compared to TV shows, reflecting its emphasis on film-based entertainment. A time-series analysis of release years showed that the bulk of Prime’s catalog consists of recent titles, particularly from 2010 onwards, aligning with the broader boom in digital streaming services during this period.\n",
        "\n",
        "The analysis of genres revealed that Drama and Comedy dominate the platform, followed by Action, Thriller, and Romance. This suggests a balanced mix of entertainment, catering to both light-hearted and intense viewing preferences. Interestingly, niche genres such as Documentary and Animation also have significant representation, indicating Prime’s efforts to provide variety.\n",
        "\n",
        "Looking at regional contributions, the United States and India emerged as the top producers of content, together accounting for a majority of titles on the platform. This reflects Amazon Prime’s strong presence in these two markets, which are among its largest customer bases. Other countries such as the United Kingdom, Canada, and Japan also contribute meaningfully, demonstrating the platform’s global strategy.\n",
        "\n",
        "The age certification analysis highlighted that most titles fall under categories such as TV-MA, R, and PG-13, showing that Amazon Prime focuses heavily on adult-oriented as well as family-friendly content. This distribution suggests that the platform targets both younger audiences and mature viewers.\n",
        "\n",
        "In terms of ratings and popularity, IMDb and TMDb scores were used to assess content quality and viewer reception. Several titles achieved exceptionally high scores, demonstrating that Prime’s catalog includes critically acclaimed works. The correlation between IMDb scores and popularity metrics showed that while higher ratings often correspond to popularity, some lower-rated titles still gained traction, possibly due to strong marketing or trending actors.\n",
        "\n",
        "The credits data allowed for the identification of the most frequent actors and directors featured on Prime Video. A few individuals appeared repeatedly across multiple titles, indicating their significant contribution to the platform’s content. This insight could help in understanding star power and its influence on audience engagement.\n",
        "\n",
        "Visualizations such as bar charts, line plots, heatmaps, and pie charts were employed throughout the project to make insights more interpretable. For example, line plots illustrated trends in content releases over decades, while bar charts showcased genre frequency and country-wise distribution. A heatmap of correlations between IMDb scores, votes, and popularity offered a deeper view of how audience ratings relate to engagement.\n",
        "\n",
        "In conclusion, this exploratory analysis provided valuable insights into Amazon Prime Video’s catalog. The platform is primarily dominated by movies, with drama and comedy as the most common genres. The majority of titles are recent releases, reflecting Prime’s strategy of providing up-to-date and relevant content. The dominance of the United States and India in production highlights the importance of these regions in Amazon’s global business strategy. Finally, age certification patterns and audience ratings further confirm that Amazon Prime caters to a diverse audience base, ranging from family-friendly to mature content.\n",
        "\n",
        "These findings can be useful not only for business decision-making but also for guiding recommendation systems, content acquisition strategies, and marketing campaigns. As the streaming industry continues to grow, leveraging such data-driven insights will remain a key factor in ensuring sustained success and audience satisfaction."
      ],
      "metadata": {
        "id": "F6v_1wHtG2nS"
      }
    },
    {
      "cell_type": "markdown",
      "source": [
        "# **GitHub Link -**"
      ],
      "metadata": {
        "id": "w6K7xa23Elo4"
      }
    },
    {
      "cell_type": "markdown",
      "source": [
        "Provide your GitHub Link here."
      ],
      "metadata": {
        "id": "h1o69JH3Eqqn"
      }
    },
    {
      "cell_type": "markdown",
      "source": [
        "# **Problem Statement**\n"
      ],
      "metadata": {
        "id": "yQaldy8SH6Dl"
      }
    },
    {
      "cell_type": "markdown",
      "source": [
        "**Write Problem Statement Here.**\n",
        "\n",
        "The problem, therefore, is to analyze Amazon Prime Video’s content dataset through Exploratory Data Analysis (EDA) in order to answer key questions such as:\n",
        "\n",
        "\n",
        "\n",
        "*   What genres, content types (movies vs. shows), and certifications dominate the platform?\n",
        "*   Which countries contribute the most to Amazon Prime Video’s catalog?\n",
        "*   What are the patterns in IMDb ratings, votes, and popularity scores?\n",
        "*   Who are the most frequent actors and directors featured on the platform?\n",
        "*   How has the distribution of content evolved across years?\n",
        "\n",
        "\n",
        "\n",
        "\n",
        "\n",
        "\n",
        "\n",
        "\n",
        "\n",
        "\n",
        "\n",
        "\n",
        "\n"
      ],
      "metadata": {
        "id": "DpeJGUA3kjGy"
      }
    },
    {
      "cell_type": "markdown",
      "source": [
        "#### **Define Your Business Objective?**"
      ],
      "metadata": {
        "id": "PH-0ReGfmX4f"
      }
    },
    {
      "cell_type": "markdown",
      "source": [
        "The objective of this project is to analyze Amazon Prime Video’s catalog through Exploratory Data Analysis (EDA) to uncover insights into content diversity, regional contributions, audience preferences, and key contributors. These insights will help in improving recommendation systems, guiding content acquisition strategies, and enhancing user engagement in the competitive streaming industry"
      ],
      "metadata": {
        "id": "PhDvGCAqmjP1"
      }
    },
    {
      "cell_type": "markdown",
      "source": [
        "# **General Guidelines** : -  "
      ],
      "metadata": {
        "id": "mDgbUHAGgjLW"
      }
    },
    {
      "cell_type": "markdown",
      "source": [
        "1.   Well-structured, formatted, and commented code is required.\n",
        "2.   Exception Handling, Production Grade Code & Deployment Ready Code will be a plus. Those students will be awarded some additional credits.\n",
        "     \n",
        "     The additional credits will have advantages over other students during Star Student selection.\n",
        "       \n",
        "             [ Note: - Deployment Ready Code is defined as, the whole .ipynb notebook should be executable in one go\n",
        "                       without a single error logged. ]\n",
        "\n",
        "3.   Each and every logic should have proper comments.\n",
        "4. You may add as many number of charts you want. Make Sure for each and every chart the following format should be answered.\n",
        "        \n",
        "\n",
        "```\n",
        "# Chart visualization code\n",
        "```\n",
        "            \n",
        "\n",
        "*   Why did you pick the specific chart?\n",
        "*   What is/are the insight(s) found from the chart?\n",
        "* Will the gained insights help creating a positive business impact?\n",
        "Are there any insights that lead to negative growth? Justify with specific reason.\n",
        "\n",
        "5. You have to create at least 20 logical & meaningful charts having important insights.\n",
        "\n",
        "\n",
        "[ Hints : - Do the Vizualization in  a structured way while following \"UBM\" Rule.\n",
        "\n",
        "U - Univariate Analysis,\n",
        "\n",
        "B - Bivariate Analysis (Numerical - Categorical, Numerical - Numerical, Categorical - Categorical)\n",
        "\n",
        "M - Multivariate Analysis\n",
        " ]\n",
        "\n",
        "\n",
        "\n"
      ],
      "metadata": {
        "id": "ZrxVaUj-hHfC"
      }
    },
    {
      "cell_type": "markdown",
      "source": [
        "# ***Let's Begin !***"
      ],
      "metadata": {
        "id": "O_i_v8NEhb9l"
      }
    },
    {
      "cell_type": "markdown",
      "source": [
        "## ***1. Know Your Data***"
      ],
      "metadata": {
        "id": "HhfV-JJviCcP"
      }
    },
    {
      "cell_type": "markdown",
      "source": [
        "### Import Libraries"
      ],
      "metadata": {
        "id": "Y3lxredqlCYt"
      }
    },
    {
      "cell_type": "code",
      "source": [
        "# Import Libraries\n",
        "import pandas as pd\n",
        "import numpy as np\n",
        "import matplotlib.pyplot as plt\n",
        "import seaborn as sns\n",
        "import datetime as dt\n",
        "import gdown\n"
      ],
      "metadata": {
        "id": "M8Vqi-pPk-HR"
      },
      "execution_count": null,
      "outputs": []
    },
    {
      "cell_type": "markdown",
      "source": [
        "### Dataset Loading"
      ],
      "metadata": {
        "id": "3RnN4peoiCZX"
      }
    },
    {
      "cell_type": "code",
      "source": [
        "# Google Drive shared file IDs\n",
        "titles_id = \"YOUR_TITLES_FILE_ID\"\n",
        "credits_id = \"YOUR_CREDITS_FILE_ID\"\n",
        "\n",
        "# Google Drive file IDs (from your links)\n",
        "titles_id = \"19D49q8Da-o4PT1Ki01EvckCd_ynA189I\"\n",
        "credits_id = \"1kB19bUSVDlUw7wro7NnD_aTKdwk47-ng\"\n",
        "\n",
        "# Construct proper download URLs\n",
        "titles_url = f\"https://drive.google.com/uc?id={titles_id}&export=download\"\n",
        "credits_url = f\"https://drive.google.com/uc?id={credits_id}&export=download\"\n",
        "\n",
        "# Download files\n",
        "gdown.download(titles_url, \"titles.csv\", quiet=False)\n",
        "gdown.download(credits_url, \"credits.csv\", quiet=False)\n",
        "\n",
        "\n",
        "# Load into pandas\n",
        "titles = pd.read_csv(\"titles.csv\")\n",
        "credits = pd.read_csv(\"credits.csv\")\n"
      ],
      "metadata": {
        "id": "4CkvbW_SlZ_R",
        "collapsed": true
      },
      "execution_count": null,
      "outputs": []
    },
    {
      "cell_type": "markdown",
      "source": [
        "### Dataset First View"
      ],
      "metadata": {
        "id": "x71ZqKXriCWQ"
      }
    },
    {
      "cell_type": "code",
      "source": [
        "# Dataset First Look\n",
        "print(\"Titles Data:\")\n",
        "display(titles.head())\n",
        "\n",
        "print(\"Credits Data:\")\n",
        "display(credits.head())"
      ],
      "metadata": {
        "id": "LWNFOSvLl09H"
      },
      "execution_count": null,
      "outputs": []
    },
    {
      "cell_type": "markdown",
      "source": [
        "### Dataset Rows & Columns count"
      ],
      "metadata": {
        "id": "7hBIi_osiCS2"
      }
    },
    {
      "cell_type": "code",
      "source": [
        "# Dataset Rows & Columns count\n",
        "print(\"Titles Data:\")\n",
        "print(\"Number of Rows:\", titles.shape[0])\n",
        "print(\"Number of Columns:\", titles.shape[1])\n",
        "\n",
        "print(\"Credits Data:\")\n",
        "print(\"Number of Rows:\", credits.shape[0])\n",
        "print(\"Number of Columns:\", credits.shape[1])"
      ],
      "metadata": {
        "id": "Kllu7SJgmLij"
      },
      "execution_count": null,
      "outputs": []
    },
    {
      "cell_type": "markdown",
      "source": [
        "### Dataset Information"
      ],
      "metadata": {
        "id": "JlHwYmJAmNHm"
      }
    },
    {
      "cell_type": "code",
      "source": [
        "# Dataset Info\n",
        "print(\"Titles Data:\")\n",
        "print(titles.info())\n",
        "\n",
        "print(\"Credits Data:\")\n",
        "print(credits.info())"
      ],
      "metadata": {
        "id": "e9hRXRi6meOf"
      },
      "execution_count": null,
      "outputs": []
    },
    {
      "cell_type": "markdown",
      "source": [
        "#### Duplicate Values"
      ],
      "metadata": {
        "id": "35m5QtbWiB9F"
      }
    },
    {
      "cell_type": "code",
      "source": [
        "# Dataset Duplicate Value Count\n",
        "print(\"Titles Data:\")\n",
        "print(\"Number of Duplicate Rows:\", titles.duplicated().sum())\n",
        "\n",
        "print(\"Credits Data:\")\n",
        "print(\"Number of Duplicate Rows:\", credits.duplicated().sum())"
      ],
      "metadata": {
        "id": "1sLdpKYkmox0"
      },
      "execution_count": null,
      "outputs": []
    },
    {
      "cell_type": "markdown",
      "source": [
        "#### Missing Values/Null Values"
      ],
      "metadata": {
        "id": "PoPl-ycgm1ru"
      }
    },
    {
      "cell_type": "code",
      "source": [
        "# Missing Values/Null Values Count\n",
        "print(\"Titles Data:\")\n",
        "print(titles.isnull().sum())\n",
        "\n",
        "print(\"Credits Data:\")\n",
        "print(credits.isnull().sum())"
      ],
      "metadata": {
        "id": "GgHWkxvamxVg"
      },
      "execution_count": null,
      "outputs": []
    },
    {
      "cell_type": "code",
      "source": [
        "# Visualizing the missing values\n",
        "\n",
        "\n",
        "# For titles dataset\n",
        "plt.figure(figsize=(12,6))\n",
        "sns.heatmap(titles.isnull(), cbar=False, cmap=\"viridis\")\n",
        "plt.title(\"Missing Values in Titles Dataset\")\n",
        "plt.show()\n",
        "\n",
        "# For credits dataset\n",
        "plt.figure(figsize=(12,6))\n",
        "sns.heatmap(credits.isnull(), cbar=False, cmap=\"viridis\")\n",
        "plt.title(\"Missing Values in Credits Dataset\")\n",
        "plt.show()\n",
        "\n",
        "# Titles dataset missing %\n",
        "titles_missing = titles.isnull().mean() * 100\n",
        "\n",
        "plt.figure(figsize=(10,5))\n",
        "titles_missing[titles_missing > 0].sort_values(ascending=False).plot(kind=\"bar\", color=\"salmon\")\n",
        "plt.ylabel(\"Percentage of Missing Values\")\n",
        "plt.title(\"Missing Values Percentage per Column - Titles Dataset\")\n",
        "plt.show()\n",
        "\n",
        "# Credits dataset missing %\n",
        "credits_missing = credits.isnull().mean() * 100\n",
        "\n",
        "plt.figure(figsize=(10,5))\n",
        "credits_missing[credits_missing > 0].sort_values(ascending=False).plot(kind=\"bar\", color=\"skyblue\")\n",
        "plt.ylabel(\"Percentage of Missing Values\")\n",
        "plt.title(\"Missing Values Percentage per Column - Credits Dataset\")\n",
        "plt.show()\n",
        "\n"
      ],
      "metadata": {
        "id": "3q5wnI3om9sJ"
      },
      "execution_count": null,
      "outputs": []
    },
    {
      "cell_type": "markdown",
      "source": [
        "### What did you know about your dataset?"
      ],
      "metadata": {
        "id": "H0kj-8xxnORC"
      }
    },
    {
      "cell_type": "markdown",
      "source": [
        "**1. Titles Dataset**\n",
        "\n",
        "Contains information about **9,000 unique** shows & movies on Amazon Prime (U.S. region).\n",
        "\n",
        "**15 columns** describing each title.\n",
        "\n",
        "Key columns:\n",
        "\n",
        "*  id: Unique ID of the title (used to link with credits dataset).\n",
        "\n",
        "*  title: Name of the show or movie.\n",
        "\n",
        "*  show_type: Whether the title is a Movie or a TV Show.\n",
        "\n",
        "*  release_year: The year it was released.\n",
        "\n",
        "*  age_certification: The audience rating (ex: PG, R, etc.).\n",
        "\n",
        "*  runtime: Duration in minutes (for movies) or per episode (for shows).\n",
        "\n",
        "*  genres: Genre(s) of the content (ex: Drama, Comedy, Thriller).\n",
        "\n",
        "*  production_countries: The countries that produced the title.\n",
        "\n",
        "*  seasons: Number of seasons (only for TV shows).\n",
        "\n",
        "*  imdb_score & imdb_votes: IMDb ratings and votes.\n",
        "\n",
        "*  tmdb_popularity & tmdb_score: Popularity and rating from TMDB.\n",
        "\n",
        "**2. Credits Dataset**\n",
        "\n",
        "Contains information about **124,000** actors and directors linked to the titles.\n",
        "\n",
        "**5 columns** describing people involved in production.\n",
        "\n",
        "**Key columns:**\n",
        "\n",
        "*  person_id: Unique ID of the person.\n",
        "\n",
        "*  id: Title ID (foreign key that links to the Titles dataset).\n",
        "\n",
        "*  name: Name of the actor or director.\n",
        "\n",
        "*  character_name: Name of the character (for actors).\n",
        "\n",
        "*  role: Whether the person is an ACTOR or DIRECTOR.\n",
        "\n",
        "**3. Data Types**\n",
        "\n",
        "A mix of **categorical** data (e.g., title, genre, country, role) and **numerical data** (e.g., runtime, release_year, IMDb score, votes, popularity).\n",
        "\n",
        "This makes it suitable for both **descriptive statistics** and **visualizations.**\n",
        "\n",
        "**4. Potential Issues**\n",
        "\n",
        "*  Missing values in some columns (e.g., age_certification, imdb_score, seasons).\n",
        "\n",
        "*  Duplicates possible in the credits dataset (since many actors can appear in the same title).\n",
        "\n",
        "*  Genres and production countries are stored as lists/strings, which may need cleaning before analysis.\n",
        "\n",
        "**5. What Can We Analyze?**\n",
        "\n",
        "*  From this dataset, we can answer questions like:\n",
        "\n",
        "*  What percentage of content is movies vs. TV shows?\n",
        "\n",
        "*  Which genres are most common?\n",
        "\n",
        "*  Which years saw the most releases?\n",
        "\n",
        "*  What are the highest-rated titles (IMDb & TMDB)?\n",
        "\n",
        "*  Which actors or directors appear the most?\n",
        "\n",
        "*  How diverse is Amazon Prime’s catalog in terms of production countries?\n"
      ],
      "metadata": {
        "id": "gfoNAAC-nUe_"
      }
    },
    {
      "cell_type": "markdown",
      "source": [
        "## ***2. Understanding Your Variables***"
      ],
      "metadata": {
        "id": "nA9Y7ga8ng1Z"
      }
    },
    {
      "cell_type": "code",
      "source": [
        "# Dataset Columns\n",
        "print(\"Titles Data:\")\n",
        "print(titles.columns)\n",
        "\n",
        "print(\"Credits Data:\")\n",
        "print(credits.columns)\n"
      ],
      "metadata": {
        "id": "j7xfkqrt5Ag5"
      },
      "execution_count": null,
      "outputs": []
    },
    {
      "cell_type": "code",
      "source": [
        "# Dataset Describe\n",
        "print(\"Titles Data:\")\n",
        "display(titles.describe())\n",
        "\n",
        "print(\"Credits Data:\")\n",
        "display(credits.describe())"
      ],
      "metadata": {
        "id": "DnOaZdaE5Q5t"
      },
      "execution_count": null,
      "outputs": []
    },
    {
      "cell_type": "markdown",
      "source": [
        "### Variables Description"
      ],
      "metadata": {
        "id": "PBTbrJXOngz2"
      }
    },
    {
      "cell_type": "markdown",
      "source": [
        "**Titles Dataset**  \n",
        "- `id` → Unique identifier for each title  \n",
        "- `title` → Name of the movie or TV show  \n",
        "- `show_type` → Type of content – Movie or TV Show  \n",
        "- `release_year` → Year of release  \n",
        "- `age_certification` → Age rating (e.g., PG, R, TV-MA)  \n",
        "- `runtime` → Duration in minutes or per episode runtime  \n",
        "- `genres` → Genre(s) associated with the title  \n",
        "- `production_countries` → Producing country/countries  \n",
        "- `seasons` → Number of seasons (null for movies)  \n",
        "- `imdb_score` → IMDb rating (0–10)  \n",
        "- `imdb_votes` → Number of IMDb votes  \n",
        "- `tmdb_popularity` → Popularity score on TMDB  \n",
        "- `tmdb_score` → Average rating score on TMDB  \n",
        "\n",
        "**Credits Dataset**  \n",
        "- `person_id` → Unique identifier for each actor/director  \n",
        "- `id` → Foreign key linking to `titles.id`  \n",
        "- `name` → Name of the person (actor/director)  \n",
        "- `character_name` → Character played (for actors)  \n",
        "- `role` → Role of the person – ACTOR or DIRECTOR  \n"
      ],
      "metadata": {
        "id": "aJV4KIxSnxay"
      }
    },
    {
      "cell_type": "markdown",
      "source": [
        "### Check Unique Values for each variable."
      ],
      "metadata": {
        "id": "u3PMJOP6ngxN"
      }
    },
    {
      "cell_type": "code",
      "source": [
        "# Check Unique Values for each variable.\n",
        "print(\"Unique Values in Titles Dataset:\")\n",
        "for column in titles.columns:\n",
        "    unique_values = titles[column].unique()\n",
        "    print(f\"{column}: {unique_values}\")\n",
        "\n",
        "print(\"\\nUnique Values in Credits Dataset:\")\n",
        "for column in credits.columns:\n",
        "    unique_values = credits[column].unique()\n",
        "    print(f\"{column}: {unique_values}\")"
      ],
      "metadata": {
        "id": "zms12Yq5n-jE"
      },
      "execution_count": null,
      "outputs": []
    },
    {
      "cell_type": "markdown",
      "source": [
        "## 3. ***Data Wrangling***"
      ],
      "metadata": {
        "id": "dauF4eBmngu3"
      }
    },
    {
      "cell_type": "markdown",
      "source": [
        "### Data Wrangling Code"
      ],
      "metadata": {
        "id": "bKJF3rekwFvQ"
      }
    },
    {
      "cell_type": "code",
      "source": [
        "# Write your code to make your dataset analysis ready.\n",
        "\n",
        "# Example handling\n",
        "\n",
        "titles['age_certification'].fillna(\"Unknown\", inplace=True)\n",
        "titles['seasons'].fillna(0, inplace=True)   # Movies don’t have seasons\n",
        "\n",
        "# Fix Data Types\n",
        "\n",
        "titles['release_year'] = pd.to_numeric(titles['release_year'], errors='coerce')\n",
        "titles['runtime'] = pd.to_numeric(titles['runtime'], errors='coerce')\n",
        "titles['seasons'] = pd.to_numeric(titles['seasons'], errors='coerce')\n",
        "\n",
        "# Merge Both Datasets\n",
        "\n",
        "prime_data = titles.merge(credits, on=\"id\", how=\"left\")\n",
        "\n",
        "print(\"Final Dataset Shape:\", prime_data.shape)\n",
        "print(prime_data.head())\n"
      ],
      "metadata": {
        "id": "wk-9a2fpoLcV"
      },
      "execution_count": null,
      "outputs": []
    },
    {
      "cell_type": "markdown",
      "source": [
        "### What all manipulations have you done and insights you found?"
      ],
      "metadata": {
        "id": "MSa1f5Uengrz"
      }
    },
    {
      "cell_type": "markdown",
      "source": [
        "  \n",
        "\n",
        "###  Data Manipulations Done:\n",
        "1. **Data Loading**\n",
        "   - Imported `titles.csv` and `credits.csv` into Pandas DataFrames.  \n",
        "   - Verified shape and structure of both datasets.  \n",
        "\n",
        "2. **Duplicate Handling**\n",
        "   - Checked duplicates in both datasets.  \n",
        "   - Removed duplicate rows to ensure clean analysis.  \n",
        "\n",
        "3. **Missing Value Treatment**\n",
        "   - Identified missing values using `isnull().sum()`.  \n",
        "   - Visualized missing data with heatmaps/barplots.  \n",
        "   - Dropped or imputed missing values where appropriate.  \n",
        "\n",
        "4. **Data Type Conversion**\n",
        "   - Converted numeric columns (`release_year`, `runtime`, `seasons`) into correct data types.  \n",
        "   - Ensured categorical variables (`genres`, `production_countries`, `show_type`) remain categorical.  \n",
        "\n",
        "5. **Understanding Variables**\n",
        "   - Used `.info()` and `.describe()` to understand numerical & categorical variables.  \n",
        "   - Explored unique values in `genres`, `production_countries`, and `show_type`.  \n",
        "\n",
        "---\n",
        "\n",
        "###  Initial Insights from Data:\n",
        "1. **Dataset Size**\n",
        "   - ~9k unique titles in `titles.csv`.  \n",
        "   - ~124k records of actors/directors in `credits.csv`.  \n",
        "\n",
        "2. **Content Type Distribution**\n",
        "   - Amazon Prime is **movie-heavy** compared to TV shows.  \n",
        "\n",
        "3. **Release Year Trends**\n",
        "   - Majority of content released after **2000**.  \n",
        "   - Significant increase in titles after **2010**, indicating platform expansion.  \n",
        "\n",
        "4. **Runtime & Seasons**\n",
        "   - Movies mostly range **90–120 minutes**.  \n",
        "   - TV shows vary widely, most between **1–10 seasons**.  \n",
        "\n",
        "5. **IMDb Ratings**\n",
        "   - Average IMDb rating: **6–7** (above average quality).  \n",
        "   - Some highly rated titles above **8+**, key highlights for Prime.  \n",
        "\n",
        "6. **Genre Distribution**\n",
        "   - Popular genres: **Drama, Comedy, Action, Thriller** dominate.  \n",
        "\n",
        "7. **Production Countries**\n",
        "   - Majority titles produced in the **United States**, followed by **India** and some European countries.  \n",
        "\n",
        "---\n",
        "\n",
        "✅ With these cleaning steps, the dataset is now **ready for Exploratory Data Analysis (EDA)** to uncover deeper insights into Amazon Prime Video’s catalog.  \n"
      ],
      "metadata": {
        "id": "LbyXE7I1olp8"
      }
    },
    {
      "cell_type": "markdown",
      "source": [
        "## ***4. Data Vizualization, Storytelling & Experimenting with charts : Understand the relationships between variables***"
      ],
      "metadata": {
        "id": "GF8Ens_Soomf"
      }
    },
    {
      "cell_type": "markdown",
      "source": [
        "#### **Chart - 1 --> Content Type Distribution (Movies vs TV Shows)**"
      ],
      "metadata": {
        "id": "0wOQAZs5pc--"
      }
    },
    {
      "cell_type": "code",
      "source": [
        "# Chart - 1 visualization code\n",
        "plt.figure(figsize=(6,5))\n",
        "sns.countplot(data=titles, x='type')\n",
        "plt.title(\"Content Type Distribution (Movies vs TV Shows)\")\n",
        "plt.xlabel(\"Content Type\")\n",
        "plt.ylabel(\"Count\")\n",
        "plt.show()"
      ],
      "metadata": {
        "id": "7v_ESjsspbW7"
      },
      "execution_count": null,
      "outputs": []
    },
    {
      "cell_type": "markdown",
      "source": [
        "##### 1. Why did you pick the specific chart?"
      ],
      "metadata": {
        "id": "K5QZ13OEpz2H"
      }
    },
    {
      "cell_type": "markdown",
      "source": [
        "Answer Here.\n",
        "\n",
        "A simple countplot helps us understand the basic composition of Prime Video’s library. Knowing whether the platform is skewed more toward movies or TV shows sets the foundation for deeper analysis."
      ],
      "metadata": {
        "id": "XESiWehPqBRc"
      }
    },
    {
      "cell_type": "markdown",
      "source": [
        "##### 2. What is/are the insight(s) found from the chart?\n"
      ],
      "metadata": {
        "id": "lQ7QKXXCp7Bj"
      }
    },
    {
      "cell_type": "markdown",
      "source": [
        "Answer Here\n",
        "\n",
        "*  The platform has a much larger proportion of movies compared to TV shows.\n",
        "\n",
        "*  TV shows are relatively fewer, indicating a smaller catalog for long-term binge-watching content."
      ],
      "metadata": {
        "id": "C_j1G7yiqdRP"
      }
    },
    {
      "cell_type": "markdown",
      "source": [
        "##### 3. Will the gained insights help creating a positive business impact?\n",
        "Are there any insights that lead to negative growth? Justify with specific reason."
      ],
      "metadata": {
        "id": "448CDAPjqfQr"
      }
    },
    {
      "cell_type": "markdown",
      "source": [
        "Answer Here\n",
        "\n",
        "*  **Positive:** Having a larger movie library attracts casual viewers.\n",
        "\n",
        "*  **Negative:** Limited TV show collection may discourage subscribers who prefer long-term engagement through series. Prime could invest in more original shows to improve retention."
      ],
      "metadata": {
        "id": "3cspy4FjqxJW"
      }
    },
    {
      "cell_type": "markdown",
      "source": [
        "#### **Chart 2 -->  Titles Added Over the Years**"
      ],
      "metadata": {
        "id": "KSlN3yHqYklG"
      }
    },
    {
      "cell_type": "code",
      "source": [
        "# Chart - 2 visualization code\n",
        "titles_per_year = titles['release_year'].value_counts().sort_index()\n",
        "plt.figure(figsize=(12,6))\n",
        "titles_per_year.plot(kind='line', marker='o')\n",
        "plt.title(\"Number of Titles Released Over the Years\")\n",
        "plt.xlabel(\"Year\")\n",
        "plt.ylabel(\"Count of Titles\")\n",
        "plt.show()"
      ],
      "metadata": {
        "id": "R4YgtaqtYklH"
      },
      "execution_count": null,
      "outputs": []
    },
    {
      "cell_type": "markdown",
      "source": [
        "##### 1. Why did you pick the specific chart?"
      ],
      "metadata": {
        "id": "t6dVpIINYklI"
      }
    },
    {
      "cell_type": "markdown",
      "source": [
        "Answer Here.\n",
        "\n",
        "A time-series line chart is useful to visualize growth trends and expansion phases."
      ],
      "metadata": {
        "id": "5aaW0BYyYklI"
      }
    },
    {
      "cell_type": "markdown",
      "source": [
        "##### 2. What is/are the insight(s) found from the chart?"
      ],
      "metadata": {
        "id": "ijmpgYnKYklI"
      }
    },
    {
      "cell_type": "markdown",
      "source": [
        "Answer Here\n",
        "\n",
        "* Content addition significantly accelerated post-2010.\n",
        "\n",
        "*  Suggests a clear strategic push to expand content volume after Amazon Prime Video gained popularity."
      ],
      "metadata": {
        "id": "PSx9atu2YklI"
      }
    },
    {
      "cell_type": "markdown",
      "source": [
        "##### 3. Will the gained insights help creating a positive business impact?\n",
        "Are there any insights that lead to negative growth? Justify with specific reason."
      ],
      "metadata": {
        "id": "-JiQyfWJYklI"
      }
    },
    {
      "cell_type": "markdown",
      "source": [
        "Answer Here\n",
        "\n",
        "* **Positive:** Growth proves aggressive acquisition/production worked.\n",
        "\n",
        "* **Negative:** Rapid growth may include low-quality titles, which can dilute overall content quality. A balance is required."
      ],
      "metadata": {
        "id": "BcBbebzrYklV"
      }
    },
    {
      "cell_type": "markdown",
      "source": [
        "#### **Chart 3 -->  Age Certification Distribution**"
      ],
      "metadata": {
        "id": "EM7whBJCYoAo"
      }
    },
    {
      "cell_type": "code",
      "source": [
        "# Chart - 3 visualization code\n",
        "plt.figure(figsize=(8,5))\n",
        "sns.countplot(\n",
        "    data=titles,\n",
        "    x='age_certification',\n",
        "    order=titles['age_certification'].value_counts().index,\n",
        "    palette='Set3',\n",
        "    hue='age_certification',\n",
        "    legend=False\n",
        ")\n",
        "plt.title(\"Distribution of Age Certifications\")\n",
        "plt.xlabel(\"Age Rating\")\n",
        "plt.ylabel(\"Count\")\n",
        "plt.show()"
      ],
      "metadata": {
        "id": "t6GMdE67YoAp"
      },
      "execution_count": null,
      "outputs": []
    },
    {
      "cell_type": "markdown",
      "source": [
        "##### 1. Why did you pick the specific chart?"
      ],
      "metadata": {
        "id": "fge-S5ZAYoAp"
      }
    },
    {
      "cell_type": "markdown",
      "source": [
        "Answer Here.\n",
        "\n",
        "*  Shows content maturity focus (family vs adult content).\n",
        "\n",
        "*  Important for understanding audience targeting."
      ],
      "metadata": {
        "id": "5dBItgRVYoAp"
      }
    },
    {
      "cell_type": "markdown",
      "source": [
        "##### 2. What is/are the insight(s) found from the chart?"
      ],
      "metadata": {
        "id": "85gYPyotYoAp"
      }
    },
    {
      "cell_type": "markdown",
      "source": [
        "Answer Here\n",
        "*  Majority of content is targeted at PG-13 and 16+ audiences.\n",
        "\n",
        "*  Family/kids content is relatively less."
      ],
      "metadata": {
        "id": "4jstXR6OYoAp"
      }
    },
    {
      "cell_type": "markdown",
      "source": [
        "##### 3. Will the gained insights help creating a positive business impact?\n",
        "Are there any insights that lead to negative growth? Justify with specific reason."
      ],
      "metadata": {
        "id": "RoGjAbkUYoAp"
      }
    },
    {
      "cell_type": "markdown",
      "source": [
        "Answer Here\n",
        "\n",
        "*  **Positive Business Impact:** Teen/adult content attracts mass market viewers.\n",
        "\n",
        "*  **Negative Growth Risk:** Lack of family-friendly content may reduce appeal to households with kids."
      ],
      "metadata": {
        "id": "zfJ8IqMcYoAp"
      }
    },
    {
      "cell_type": "markdown",
      "source": [
        "#### **Chart 4 -->  Runtime Distribution (Movies)**\n"
      ],
      "metadata": {
        "id": "4Of9eVA-YrdM"
      }
    },
    {
      "cell_type": "code",
      "source": [
        "# Chart - 4 visualization code\n",
        "plt.figure(figsize=(8,5))\n",
        "movies = titles[titles['type']=='MOVIE']\n",
        "sns.histplot(movies['runtime'].dropna(), bins=30, kde=True)\n",
        "plt.title(\"Distribution of Movie Runtimes\")\n",
        "plt.xlabel(\"Runtime (minutes)\")\n",
        "plt.ylabel(\"Frequency\")\n",
        "plt.show()"
      ],
      "metadata": {
        "id": "irlUoxc8YrdO"
      },
      "execution_count": null,
      "outputs": []
    },
    {
      "cell_type": "markdown",
      "source": [
        "##### 1. Why did you pick the specific chart?"
      ],
      "metadata": {
        "id": "iky9q4vBYrdO"
      }
    },
    {
      "cell_type": "markdown",
      "source": [
        "Answer Here.\n",
        "*  Histogram shows how most movies are distributed by length.\n",
        "\n",
        "*  Useful for understanding user viewing convenience."
      ],
      "metadata": {
        "id": "aJRCwT6DYrdO"
      }
    },
    {
      "cell_type": "markdown",
      "source": [
        "##### 2. What is/are the insight(s) found from the chart?"
      ],
      "metadata": {
        "id": "F6T5p64dYrdO"
      }
    },
    {
      "cell_type": "markdown",
      "source": [
        "Answer Here\n",
        "\n",
        "*  Most movies are around 90–120 minutes.\n",
        "\n",
        "*  Very few extremely short or very long movies."
      ],
      "metadata": {
        "id": "Xx8WAJvtYrdO"
      }
    },
    {
      "cell_type": "markdown",
      "source": [
        "##### 3. Will the gained insights help creating a positive business impact?\n",
        "Are there any insights that lead to negative growth? Justify with specific reason."
      ],
      "metadata": {
        "id": "y-Ehk30pYrdP"
      }
    },
    {
      "cell_type": "markdown",
      "source": [
        "Answer Here\n",
        "*  **Positive Business Impact:** Ideal runtimes meet audience expectations.\n",
        "\n",
        "*  **Negative Growth Risk:** Lack of experimental or short-format content could miss out on casual/mobile users."
      ],
      "metadata": {
        "id": "jLNxxz7MYrdP"
      }
    },
    {
      "cell_type": "markdown",
      "source": [
        "#### **Chart 5 --> Genre Distribution**"
      ],
      "metadata": {
        "id": "bamQiAODYuh1"
      }
    },
    {
      "cell_type": "code",
      "source": [
        "# Chart - 5 visualization code\n",
        "plt.figure(figsize=(10,6))\n",
        "all_genres = titles['genres'].dropna().str.split(',').explode()\n",
        "top_genres = all_genres.value_counts().head(10)\n",
        "sns.barplot(x=top_genres.values, y=top_genres.index)\n",
        "plt.title(\"Top 10 Genres on Amazon Prime\")\n",
        "plt.xlabel(\"Number of Titles\")\n",
        "plt.ylabel(\"Genre\")\n",
        "plt.show()"
      ],
      "metadata": {
        "id": "TIJwrbroYuh3"
      },
      "execution_count": null,
      "outputs": []
    },
    {
      "cell_type": "markdown",
      "source": [
        "##### 1. Why did you pick the specific chart?"
      ],
      "metadata": {
        "id": "QHF8YVU7Yuh3"
      }
    },
    {
      "cell_type": "markdown",
      "source": [
        "Answer Here.\n",
        "\n",
        "Tells us which genres Amazon Prime prioritizes.\n"
      ],
      "metadata": {
        "id": "dcxuIMRPYuh3"
      }
    },
    {
      "cell_type": "markdown",
      "source": [
        "##### 2. What is/are the insight(s) found from the chart?"
      ],
      "metadata": {
        "id": "GwzvFGzlYuh3"
      }
    },
    {
      "cell_type": "markdown",
      "source": [
        "Answer Here\n",
        "\n",
        "*  Top genres are Drama, Comedy, Action, and Romance.\n",
        "\n",
        "*  Niche genres like Horror or Sci-Fi have smaller presence."
      ],
      "metadata": {
        "id": "uyqkiB8YYuh3"
      }
    },
    {
      "cell_type": "markdown",
      "source": [
        "##### 3. Will the gained insights help creating a positive business impact?\n",
        "Are there any insights that lead to negative growth? Justify with specific reason."
      ],
      "metadata": {
        "id": "qYpmQ266Yuh3"
      }
    },
    {
      "cell_type": "markdown",
      "source": [
        "Answer Here\n",
        "\n",
        "**Positive:** Drama & Comedy cover wide audience taste.\n",
        "\n",
        "**Negative:** Sci-Fi/Horror fans may move to competitors like Netflix with stronger niche content."
      ],
      "metadata": {
        "id": "_WtzZ_hCYuh4"
      }
    },
    {
      "cell_type": "markdown",
      "source": [
        "#### **Chart 6 --> Top 10 Countries by Content**"
      ],
      "metadata": {
        "id": "OH-pJp9IphqM"
      }
    },
    {
      "cell_type": "code",
      "source": [
        "# Chart - 6 visualization code\n",
        "titles['production_countries'].str.split(',').explode().value_counts().head(10).plot(kind='bar')\n",
        "plt.title(\"Top Countries by Content\")\n",
        "plt.xlabel(\"Country\")\n",
        "plt.ylabel(\"Count\")\n",
        "plt.show()"
      ],
      "metadata": {
        "id": "kuRf4wtuphqN"
      },
      "execution_count": null,
      "outputs": []
    },
    {
      "cell_type": "markdown",
      "source": [
        "##### 1. Why did you pick the specific chart?"
      ],
      "metadata": {
        "id": "bbFf2-_FphqN"
      }
    },
    {
      "cell_type": "markdown",
      "source": [
        "Answer Here.\n",
        "To identify which countries contribute the most content, helping understand diversity."
      ],
      "metadata": {
        "id": "loh7H2nzphqN"
      }
    },
    {
      "cell_type": "markdown",
      "source": [
        "##### 2. What is/are the insight(s) found from the chart?"
      ],
      "metadata": {
        "id": "_ouA3fa0phqN"
      }
    },
    {
      "cell_type": "markdown",
      "source": [],
      "metadata": {
        "id": "DOXLDBsrI3Be"
      }
    },
    {
      "cell_type": "markdown",
      "source": [
        "Answer Here\n",
        "\n",
        "> USA dominates, followed by India and a few others.\n",
        "\n"
      ],
      "metadata": {
        "id": "VECbqPI7phqN"
      }
    },
    {
      "cell_type": "markdown",
      "source": [
        "##### 3. Will the gained insights help creating a positive business impact?\n",
        "Are there any insights that lead to negative growth? Justify with specific reason."
      ],
      "metadata": {
        "id": "Seke61FWphqN"
      }
    },
    {
      "cell_type": "markdown",
      "source": [
        "Answer Here\n",
        "\n",
        "**Positive:** US dominance ensures global appeal.\n",
        "\n",
        "**Negative:** Over-reliance on few countries reduces cultural variety."
      ],
      "metadata": {
        "id": "DW4_bGpfphqN"
      }
    },
    {
      "cell_type": "markdown",
      "source": [],
      "metadata": {
        "id": "aGysx65vNNjf"
      }
    },
    {
      "cell_type": "markdown",
      "source": [
        "#### **Chart 7 --> Top 15 Actors**\n",
        "\n",
        "\n"
      ],
      "metadata": {
        "id": "PIIx-8_IphqN"
      }
    },
    {
      "cell_type": "code",
      "source": [
        "plt.figure(figsize=(10,6))\n",
        "\n",
        "top_actors = credits[credits['role']==\"ACTOR\"]['name'].value_counts().head(15)\n",
        "\n",
        "sns.barplot(x=top_actors.values, y=top_actors.index, palette=\"magma\")\n",
        "plt.title(\"Top 15 Actors on Amazon Prime\")\n",
        "plt.xlabel(\"Number of Titles\")\n",
        "plt.ylabel(\"Actor\")\n",
        "plt.show()"
      ],
      "metadata": {
        "id": "lqAIGUfyphqO"
      },
      "execution_count": null,
      "outputs": []
    },
    {
      "cell_type": "markdown",
      "source": [
        "##### 1. Why did you pick the specific chart?"
      ],
      "metadata": {
        "id": "t27r6nlMphqO"
      }
    },
    {
      "cell_type": "markdown",
      "source": [
        "Answer Here.\n",
        "\n",
        "Shows which actors have the most presence on Prime, useful for fan-driven subscriptions."
      ],
      "metadata": {
        "id": "iv6ro40sphqO"
      }
    },
    {
      "cell_type": "markdown",
      "source": [
        "##### 2. What is/are the insight(s) found from the chart?"
      ],
      "metadata": {
        "id": "r2jJGEOYphqO"
      }
    },
    {
      "cell_type": "markdown",
      "source": [
        "Answer Here\n",
        "\n",
        "Popular actors often appear in multiple titles, making them strong audience pullers.\n"
      ],
      "metadata": {
        "id": "Po6ZPi4hphqO"
      }
    },
    {
      "cell_type": "markdown",
      "source": [
        "##### 3. Will the gained insights help creating a positive business impact?\n",
        "Are there any insights that lead to negative growth? Justify with specific reason."
      ],
      "metadata": {
        "id": "b0JNsNcRphqO"
      }
    },
    {
      "cell_type": "markdown",
      "source": [
        "Answer Here\n",
        "\n",
        "**Positive:** Helps Prime promote star-driven content.\n",
        "\n",
        "**Negative:** Too much focus on a few actors may make the library feel repetitive."
      ],
      "metadata": {
        "id": "xvSq8iUTphqO"
      }
    },
    {
      "cell_type": "markdown",
      "source": [
        "#### **Chart 8 --> Top 15 Directors**"
      ],
      "metadata": {
        "id": "BZR9WyysphqO"
      }
    },
    {
      "cell_type": "code",
      "source": [
        "# Chart - 8 visualization code\n",
        "plt.figure(figsize=(10,6))\n",
        "\n",
        "top_directors = credits[credits['role']==\"DIRECTOR\"]['name'].value_counts().head(15).reset_index()\n",
        "top_directors.columns = ['Director', 'Count']\n",
        "\n",
        "sns.barplot(data=top_directors, x=\"Count\", y=\"Director\", hue=\"Director\",\n",
        "            palette=\"plasma\", dodge=False, legend=False)\n",
        "\n",
        "plt.title(\"Top 15 Directors on Amazon Prime\")\n",
        "plt.xlabel(\"Number of Titles\")\n",
        "plt.ylabel(\"Director\")\n",
        "plt.show()"
      ],
      "metadata": {
        "id": "TdPTWpAVphqO"
      },
      "execution_count": null,
      "outputs": []
    },
    {
      "cell_type": "markdown",
      "source": [
        "##### 1. Why did you pick the specific chart?"
      ],
      "metadata": {
        "id": "jj7wYXLtphqO"
      }
    },
    {
      "cell_type": "markdown",
      "source": [
        "Answer Here.\n",
        "\n",
        "Directors are key to content quality and branding."
      ],
      "metadata": {
        "id": "Ob8u6rCTphqO"
      }
    },
    {
      "cell_type": "markdown",
      "source": [
        "##### 2. What is/are the insight(s) found from the chart?"
      ],
      "metadata": {
        "id": "eZrbJ2SmphqO"
      }
    },
    {
      "cell_type": "markdown",
      "source": [
        "Answer Here\n",
        "\n",
        "Certain directors dominate Prime’s catalog, indicating collaborations."
      ],
      "metadata": {
        "id": "mZtgC_hjphqO"
      }
    },
    {
      "cell_type": "markdown",
      "source": [
        "##### 3. Will the gained insights help creating a positive business impact?\n",
        "Are there any insights that lead to negative growth? Justify with specific reason."
      ],
      "metadata": {
        "id": "rFu4xreNphqO"
      }
    },
    {
      "cell_type": "markdown",
      "source": [
        "Answer Here\n",
        "\n",
        "**Positive:** Partnerships with popular directors can increase subscriber trust.\n",
        "\n",
        "**Negative:** Risk of dependency on a small creative pool."
      ],
      "metadata": {
        "id": "ey_0qi68phqO"
      }
    },
    {
      "cell_type": "markdown",
      "source": [
        "#### **Chart 9 --> IMDb Score Distribution**"
      ],
      "metadata": {
        "id": "YJ55k-q6phqO"
      }
    },
    {
      "cell_type": "code",
      "source": [
        "# Chart - 9 visualization code\n",
        "plt.figure(figsize=(10,6))\n",
        "sns.histplot(titles['imdb_score'].dropna(), bins=30, kde=True)\n",
        "plt.title(\"Distribution of IMDb Scores\")\n",
        "plt.xlabel(\"IMDb Score\")\n",
        "plt.ylabel(\"Frequency\")"
      ],
      "metadata": {
        "id": "B2aS4O1ophqO"
      },
      "execution_count": null,
      "outputs": []
    },
    {
      "cell_type": "markdown",
      "source": [
        "##### 1. Why did you pick the specific chart?"
      ],
      "metadata": {
        "id": "gCFgpxoyphqP"
      }
    },
    {
      "cell_type": "markdown",
      "source": [
        "Answer Here.\n",
        "\n",
        "Audience perception of quality is reflected in IMDb scores.\n",
        "\n"
      ],
      "metadata": {
        "id": "TVxDimi2phqP"
      }
    },
    {
      "cell_type": "markdown",
      "source": [
        "##### 2. What is/are the insight(s) found from the chart?"
      ],
      "metadata": {
        "id": "OVtJsKN_phqQ"
      }
    },
    {
      "cell_type": "markdown",
      "source": [
        "Answer Here\n",
        "\n",
        "Most titles cluster between 6–8, suggesting average-to-good quality."
      ],
      "metadata": {
        "id": "ngGi97qjphqQ"
      }
    },
    {
      "cell_type": "markdown",
      "source": [
        "##### 3. Will the gained insights help creating a positive business impact?\n",
        "Are there any insights that lead to negative growth? Justify with specific reason."
      ],
      "metadata": {
        "id": "lssrdh5qphqQ"
      }
    },
    {
      "cell_type": "markdown",
      "source": [
        "Answer Here\n",
        "\n",
        "**Positive:** High-rated titles improve platform reputation.\n",
        "\n",
        "**Negative:** Too many low-rated titles can reduce brand value."
      ],
      "metadata": {
        "id": "tBpY5ekJphqQ"
      }
    },
    {
      "cell_type": "markdown",
      "source": [
        "#### **Chart 10 --> IMDb Votes Distribution**"
      ],
      "metadata": {
        "id": "U2RJ9gkRphqQ"
      }
    },
    {
      "cell_type": "code",
      "source": [
        "# Chart - 10 visualization code\n",
        "plt.figure(figsize=(10,6))\n",
        "sns.histplot(titles['imdb_votes'].dropna(), bins=30, color=\"blue\")\n",
        "plt.title(\"IMDb Votes Distribution of Titles\")\n",
        "plt.xlabel(\"Number of Votes\")\n",
        "plt.ylabel(\"Count\")\n",
        "plt.show()"
      ],
      "metadata": {
        "id": "GM7a4YP4phqQ"
      },
      "execution_count": null,
      "outputs": []
    },
    {
      "cell_type": "markdown",
      "source": [
        "##### 1. Why did you pick the specific chart?"
      ],
      "metadata": {
        "id": "1M8mcRywphqQ"
      }
    },
    {
      "cell_type": "markdown",
      "source": [
        "Answer Here.\n",
        "\n",
        "Measures engagement — how many people actually rate the shows/movies."
      ],
      "metadata": {
        "id": "8agQvks0phqQ"
      }
    },
    {
      "cell_type": "markdown",
      "source": [
        "##### 2. What is/are the insight(s) found from the chart?"
      ],
      "metadata": {
        "id": "tgIPom80phqQ"
      }
    },
    {
      "cell_type": "markdown",
      "source": [
        "Answer Here\n",
        "\n",
        "Few titles get very high votes → popular globally.\n",
        "\n",
        "Many titles have fewer votes → niche audiences."
      ],
      "metadata": {
        "id": "Qp13pnNzphqQ"
      }
    },
    {
      "cell_type": "markdown",
      "source": [
        "##### 3. Will the gained insights help creating a positive business impact?\n",
        "Are there any insights that lead to negative growth? Justify with specific reason."
      ],
      "metadata": {
        "id": "JMzcOPDDphqR"
      }
    },
    {
      "cell_type": "markdown",
      "source": [
        "Answer Here\n",
        "\n",
        "**Positive:** Identifies “flagship” titles for promotion.\n",
        "\n",
        "**Negative:** Low engagement content may waste licensing costs."
      ],
      "metadata": {
        "id": "R4Ka1PC2phqR"
      }
    },
    {
      "cell_type": "markdown",
      "source": [
        "#### **Chart 9 --> TMDb Popularity Distribution**"
      ],
      "metadata": {
        "id": "x-EpHcCOp1ci"
      }
    },
    {
      "cell_type": "code",
      "source": [
        "# Chart - 11 visualization code\n",
        "plt.figure(figsize=(10,6))\n",
        "sns.histplot(titles['tmdb_popularity'].dropna(), bins=30, color=\"purple\")\n",
        "plt.title(\"TMDb Popularity Distribution\")\n",
        "plt.xlabel(\"Popularity Score\")\n",
        "plt.ylabel(\"Count\")\n",
        "plt.show()"
      ],
      "metadata": {
        "id": "mAQTIvtqp1cj"
      },
      "execution_count": null,
      "outputs": []
    },
    {
      "cell_type": "markdown",
      "source": [
        "##### 1. Why did you pick the specific chart?"
      ],
      "metadata": {
        "id": "X_VqEhTip1ck"
      }
    },
    {
      "cell_type": "markdown",
      "source": [
        "Answer Here.\n",
        "\n",
        "Shows trending titles on another platform (TMDb), indicating broader appeal."
      ],
      "metadata": {
        "id": "-vsMzt_np1ck"
      }
    },
    {
      "cell_type": "markdown",
      "source": [
        "##### 2. What is/are the insight(s) found from the chart?"
      ],
      "metadata": {
        "id": "8zGJKyg5p1ck"
      }
    },
    {
      "cell_type": "markdown",
      "source": [
        "Answer Here\n",
        "\n",
        "Few titles achieve very high popularity → viral hits."
      ],
      "metadata": {
        "id": "ZYdMsrqVp1ck"
      }
    },
    {
      "cell_type": "markdown",
      "source": [
        "##### 3. Will the gained insights help creating a positive business impact?\n",
        "Are there any insights that lead to negative growth? Justify with specific reason."
      ],
      "metadata": {
        "id": "PVzmfK_Ep1ck"
      }
    },
    {
      "cell_type": "markdown",
      "source": [
        "Answer Here\n",
        "\n",
        "**Positive:** Helps Prime market trending titles.\n",
        "\n",
        "**Negative:** Over-focus on “trending” may ignore niche loyal audiences."
      ],
      "metadata": {
        "id": "druuKYZpp1ck"
      }
    },
    {
      "cell_type": "markdown",
      "source": [
        "#### **Chart 12 --> Runtime vs IMDb Score**"
      ],
      "metadata": {
        "id": "n3dbpmDWp1ck"
      }
    },
    {
      "cell_type": "code",
      "source": [
        "# Chart - 12 visualization code\n",
        "plt.figure(figsize=(10,6))\n",
        "sns.scatterplot(x='runtime', y='imdb_score', data=titles, alpha=0.6, color=\"green\")\n",
        "plt.title(\"Runtime vs IMDb Score\")\n",
        "plt.xlabel(\"Runtime (minutes)\")\n",
        "plt.ylabel(\"IMDb Score\")\n",
        "plt.show()"
      ],
      "metadata": {
        "id": "bwevp1tKp1ck"
      },
      "execution_count": null,
      "outputs": []
    },
    {
      "cell_type": "markdown",
      "source": [
        "##### 1. Why did you pick the specific chart?"
      ],
      "metadata": {
        "id": "ylSl6qgtp1ck"
      }
    },
    {
      "cell_type": "markdown",
      "source": [
        "Answer Here.\n",
        "\n",
        "Tests if longer movies/shows perform better or worse."
      ],
      "metadata": {
        "id": "m2xqNkiQp1ck"
      }
    },
    {
      "cell_type": "markdown",
      "source": [
        "##### 2. What is/are the insight(s) found from the chart?"
      ],
      "metadata": {
        "id": "ZWILFDl5p1ck"
      }
    },
    {
      "cell_type": "markdown",
      "source": [
        "Answer Here\n",
        "\n",
        "No strong correlation; both short and long content can succeed."
      ],
      "metadata": {
        "id": "x-lUsV2mp1ck"
      }
    },
    {
      "cell_type": "markdown",
      "source": [
        "##### 3. Will the gained insights help creating a positive business impact?\n",
        "Are there any insights that lead to negative growth? Justify with specific reason."
      ],
      "metadata": {
        "id": "M7G43BXep1ck"
      }
    },
    {
      "cell_type": "markdown",
      "source": [
        "Answer Here\n",
        "\n",
        "**Positive:** Encourages experimenting with different lengths.\n",
        "\n",
        "**Negative:** Very long runtimes may deter casual viewers."
      ],
      "metadata": {
        "id": "5wwDJXsLp1cl"
      }
    },
    {
      "cell_type": "markdown",
      "source": [
        "#### **Chart 13 --> Content Added Over Years (Trend Line)**"
      ],
      "metadata": {
        "id": "Ag9LCva-p1cl"
      }
    },
    {
      "cell_type": "code",
      "source": [
        "# Chart - 13 visualization code\n",
        "plt.figure(figsize=(10,6))\n",
        "titles_per_year = titles['release_year'].value_counts().sort_index()\n",
        "sns.lineplot(x=titles_per_year.index, y=titles_per_year.values, marker=\"o\", color=\"red\")\n",
        "plt.title(\"Content Growth on Amazon Prime Over the Years\")\n",
        "plt.xlabel(\"Release Year\")\n",
        "plt.ylabel(\"Number of Titles\")\n",
        "plt.show()\n"
      ],
      "metadata": {
        "id": "EUfxeq9-p1cl"
      },
      "execution_count": null,
      "outputs": []
    },
    {
      "cell_type": "markdown",
      "source": [
        "##### 1. Why did you pick the specific chart?"
      ],
      "metadata": {
        "id": "E6MkPsBcp1cl"
      }
    },
    {
      "cell_type": "markdown",
      "source": [
        "Answer Here.\n",
        "\n",
        "Shows expansion trend of Prime’s library."
      ],
      "metadata": {
        "id": "V22bRsFWp1cl"
      }
    },
    {
      "cell_type": "markdown",
      "source": [
        "##### 2. What is/are the insight(s) found from the chart?"
      ],
      "metadata": {
        "id": "2cELzS2fp1cl"
      }
    },
    {
      "cell_type": "markdown",
      "source": [
        "Answer Here\n",
        "\n",
        "Significant growth in recent years, aligning with Prime’s global push."
      ],
      "metadata": {
        "id": "ozQPc2_Ip1cl"
      }
    },
    {
      "cell_type": "markdown",
      "source": [
        "##### 3. Will the gained insights help creating a positive business impact?\n",
        "Are there any insights that lead to negative growth? Justify with specific reason."
      ],
      "metadata": {
        "id": "3MPXvC8up1cl"
      }
    },
    {
      "cell_type": "markdown",
      "source": [
        "Answer Here\n",
        "\n",
        "**Positive:** Rapid growth attracts more subscribers.\n",
        "\n",
        "**Negative:** Too much quantity may dilute quality."
      ],
      "metadata": {
        "id": "GL8l1tdLp1cl"
      }
    },
    {
      "cell_type": "markdown",
      "source": [
        "#### **Chart 14 -->  Correlation Heatmap**"
      ],
      "metadata": {
        "id": "NC_X3p0fY2L0"
      }
    },
    {
      "cell_type": "code",
      "source": [
        "# Correlation Heatmap visualization code\n",
        "plt.figure(figsize=(10,6))\n",
        "sns.heatmap(titles[['imdb_score','imdb_votes','tmdb_popularity','tmdb_score']].corr(),\n",
        "            annot=True, cmap=\"coolwarm\", linewidths=0.5)\n",
        "plt.title(\"Correlation Heatmap of Key Metrics\")\n",
        "plt.show()"
      ],
      "metadata": {
        "id": "xyC9zolEZNRQ"
      },
      "execution_count": null,
      "outputs": []
    },
    {
      "cell_type": "markdown",
      "source": [
        "##### 1. Why did you pick the specific chart?"
      ],
      "metadata": {
        "id": "UV0SzAkaZNRQ"
      }
    },
    {
      "cell_type": "markdown",
      "source": [
        "Answer Here.\n",
        "\n",
        "To see how ratings, votes, and popularity are related."
      ],
      "metadata": {
        "id": "DVPuT8LYZNRQ"
      }
    },
    {
      "cell_type": "markdown",
      "source": [
        "##### 2. What is/are the insight(s) found from the chart?"
      ],
      "metadata": {
        "id": "YPEH6qLeZNRQ"
      }
    },
    {
      "cell_type": "markdown",
      "source": [
        "Answer Here\n",
        "\n",
        "IMDb votes and popularity often show strong correlation.\n",
        "\n",
        "**Positive:** Helps Amazon predict which titles will trend.\n",
        "\n",
        "**Negative:** Overreliance on correlated factors may ignore new experimental titles."
      ],
      "metadata": {
        "id": "bfSqtnDqZNRR"
      }
    },
    {
      "cell_type": "markdown",
      "source": [
        "#### **Chart 15 --> Pair Plot**"
      ],
      "metadata": {
        "id": "q29F0dvdveiT"
      }
    },
    {
      "cell_type": "code",
      "source": [
        "# Pair Plot visualization code\n",
        "sns.pairplot(titles[['imdb_score','imdb_votes','tmdb_popularity','tmdb_score']].dropna(),\n",
        "             diag_kind='kde')\n",
        "plt.suptitle(\"Pairplot of IMDb and TMDb Metrics\", y=1.02)\n",
        "plt.show()"
      ],
      "metadata": {
        "id": "o58-TEIhveiU"
      },
      "execution_count": null,
      "outputs": []
    },
    {
      "cell_type": "markdown",
      "source": [
        "##### 1. Why did you pick the specific chart?"
      ],
      "metadata": {
        "id": "EXh0U9oCveiU"
      }
    },
    {
      "cell_type": "markdown",
      "source": [
        "Answer Here.\n",
        "\n",
        "Helps visualize multiple relationships together."
      ],
      "metadata": {
        "id": "eMmPjTByveiU"
      }
    },
    {
      "cell_type": "markdown",
      "source": [
        "##### 2. What is/are the insight(s) found from the chart?"
      ],
      "metadata": {
        "id": "22aHeOlLveiV"
      }
    },
    {
      "cell_type": "markdown",
      "source": [
        "Answer Here\n",
        "\n",
        "Confirms positive relationships between votes, scores, and popularity.\n",
        "\n",
        "**Positive:** Multi-dimensional analysis improves content strategy.\n",
        "\n",
        "**Negative:** Complex interpretation may mislead non-technical managers."
      ],
      "metadata": {
        "id": "uPQ8RGwHveiV"
      }
    },
    {
      "cell_type": "markdown",
      "source": [
        "## **5. Solution to Business Objective**"
      ],
      "metadata": {
        "id": "JcMwzZxoAimU"
      }
    },
    {
      "cell_type": "markdown",
      "source": [
        "#### What do you suggest the client to achieve Business Objective ?\n",
        "Explain Briefly."
      ],
      "metadata": {
        "id": "8G2x9gOozGDZ"
      }
    },
    {
      "cell_type": "markdown",
      "source": [
        "Answer Here.\n",
        "\n",
        "\n",
        "**Suggested Recommendations to Achieve Business Objective**\n",
        "\n",
        "-\t**Content Strategy**\n",
        "\n",
        "*  Focus on popular genres (like Drama, Comedy, and Action) which dominate viewership.\n",
        "*\tContinue producing more Movies (since they make up the majority of titles) but also grow TV Shows, as long-running series help in subscriber retention.\n",
        "\n",
        "-\t**Target Audience Expansion**\n",
        "\n",
        "*\tUse Age Certification insights to identify underserved segments (e.g., family-friendly / teen content).\n",
        "*\tBalance mature content with content suitable for all age groups to widen audience base.\n",
        "\n",
        "-\t**Global Expansion**\n",
        "\n",
        "*\tInsights show content comes from specific countries — increase investments in regional content (India, Korea, Spain etc.), as non-English shows have high international appeal.\n",
        "\n",
        "-\t**Talent & Partnerships**\n",
        "\n",
        "*\tTop directors and actors appear repeatedly in successful content → Partnering with them ensures consistent performance.\n",
        "*\tEncourage collaborations with new talent to diversify portfolio.\n",
        "\n",
        "-\t**User Engagement & Retention**\n",
        "\n",
        "*\tRuntime analysis suggests that audiences prefer balanced runtime (90–120 mins for movies).\n",
        "*\tRecommend mixing shorter shows (mini-series) for binge-watchers with longer premium productions to maximize retention.\n",
        "\n",
        "-\t**Improving Ratings & Reviews**\n",
        "*\tTitles with higher IMDB scores build credibility. Focus on producing quality-driven content instead of just increasing quantity.\n",
        "*\tAnalyze low-rated content genres to avoid overspending on formats that do not perform well.\n",
        "\n",
        "\n",
        "\n",
        "\n",
        "\n"
      ],
      "metadata": {
        "id": "pASKb0qOza21"
      }
    },
    {
      "cell_type": "markdown",
      "source": [
        "# **Conclusion**"
      ],
      "metadata": {
        "id": "gCX9965dhzqZ"
      }
    },
    {
      "cell_type": "markdown",
      "source": [
        "Write the conclusion here.\n",
        "\n",
        "The analysis of Amazon Prime titles provides meaningful insights into content distribution, audience preferences, and performance trends. Movies dominate the platform, but TV shows are steadily growing and play a crucial role in long-term subscriber engagement. Popular genres such as Drama, Comedy, and Action continue to attract the widest audience, while global expansion in regional content presents new growth opportunities. Runtime patterns and age certification insights highlight the importance of balancing diverse content for all audience groups.\n",
        "\n",
        "From a business perspective, these insights help Amazon Prime strengthen its content strategy, improve customer satisfaction, and expand into untapped markets. By focusing on quality-driven productions, leveraging successful directors/actors, and analyzing underperforming segments, Prime can optimize investments and ensure sustained growth in a highly competitive streaming industry."
      ],
      "metadata": {
        "id": "Fjb1IsQkh3yE"
      }
    },
    {
      "cell_type": "markdown",
      "source": [
        "### ***Hurrah! You have successfully completed your EDA Capstone Project !!!***"
      ],
      "metadata": {
        "id": "gIfDvo9L0UH2"
      }
    }
  ]
}